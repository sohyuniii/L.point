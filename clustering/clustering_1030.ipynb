{
 "cells": [
  {
   "cell_type": "code",
   "execution_count": 1,
   "metadata": {},
   "outputs": [
    {
     "name": "stderr",
     "output_type": "stream",
     "text": [
      "C:\\ProgramData\\Anaconda1\\lib\\site-packages\\ipykernel\\parentpoller.py:116: UserWarning: Parent poll failed.  If the frontend dies,\n",
      "                the kernel may be left running.  Please let us know\n",
      "                about your system (bitness, Python, etc.) at\n",
      "                ipython-dev@scipy.org\n",
      "  ipython-dev@scipy.org\"\"\")\n"
     ]
    },
    {
     "data": {
      "text/html": [
       "<div>\n",
       "<style scoped>\n",
       "    .dataframe tbody tr th:only-of-type {\n",
       "        vertical-align: middle;\n",
       "    }\n",
       "\n",
       "    .dataframe tbody tr th {\n",
       "        vertical-align: top;\n",
       "    }\n",
       "\n",
       "    .dataframe thead th {\n",
       "        text-align: right;\n",
       "    }\n",
       "</style>\n",
       "<table border=\"1\" class=\"dataframe\">\n",
       "  <thead>\n",
       "    <tr style=\"text-align: right;\">\n",
       "      <th></th>\n",
       "      <th>HITS_SEQ</th>\n",
       "      <th>PD_BUY_AM</th>\n",
       "      <th>PD_BUY_CT</th>\n",
       "      <th>TOT_PAG_VIEW_CT</th>\n",
       "      <th>TOT_SESS_HR_V</th>\n",
       "      <th>CLNT_AGE</th>\n",
       "      <th>GENDER_F</th>\n",
       "      <th>GENDER_M</th>\n",
       "      <th>DVC_desktop</th>\n",
       "      <th>DVC_mobile</th>\n",
       "      <th>...</th>\n",
       "      <th>CLAC0_0</th>\n",
       "      <th>CLAC0_1</th>\n",
       "      <th>CLAC0_2</th>\n",
       "      <th>CLAC0_3</th>\n",
       "      <th>CLAC0_4</th>\n",
       "      <th>CLAC0_5</th>\n",
       "      <th>CLAC0_6</th>\n",
       "      <th>CLAC0_7</th>\n",
       "      <th>CLAC0_8</th>\n",
       "      <th>CLAC0_9</th>\n",
       "    </tr>\n",
       "  </thead>\n",
       "  <tbody>\n",
       "    <tr>\n",
       "      <th>0</th>\n",
       "      <td>57.000000</td>\n",
       "      <td>38000.000000</td>\n",
       "      <td>1.0</td>\n",
       "      <td>46.500000</td>\n",
       "      <td>417.000000</td>\n",
       "      <td>20</td>\n",
       "      <td>0</td>\n",
       "      <td>1</td>\n",
       "      <td>0.0</td>\n",
       "      <td>2.0</td>\n",
       "      <td>...</td>\n",
       "      <td>0</td>\n",
       "      <td>0</td>\n",
       "      <td>0</td>\n",
       "      <td>0.0</td>\n",
       "      <td>0.0</td>\n",
       "      <td>0</td>\n",
       "      <td>0</td>\n",
       "      <td>0.0</td>\n",
       "      <td>2.0</td>\n",
       "      <td>0.0</td>\n",
       "    </tr>\n",
       "    <tr>\n",
       "      <th>1</th>\n",
       "      <td>284.000000</td>\n",
       "      <td>34900.000000</td>\n",
       "      <td>1.0</td>\n",
       "      <td>256.000000</td>\n",
       "      <td>7098.000000</td>\n",
       "      <td>30</td>\n",
       "      <td>1</td>\n",
       "      <td>0</td>\n",
       "      <td>0.0</td>\n",
       "      <td>2.0</td>\n",
       "      <td>...</td>\n",
       "      <td>0</td>\n",
       "      <td>0</td>\n",
       "      <td>0</td>\n",
       "      <td>0.0</td>\n",
       "      <td>0.0</td>\n",
       "      <td>0</td>\n",
       "      <td>0</td>\n",
       "      <td>0.0</td>\n",
       "      <td>2.0</td>\n",
       "      <td>0.0</td>\n",
       "    </tr>\n",
       "    <tr>\n",
       "      <th>2</th>\n",
       "      <td>58.000000</td>\n",
       "      <td>15360.000000</td>\n",
       "      <td>1.0</td>\n",
       "      <td>98.200000</td>\n",
       "      <td>2169.000000</td>\n",
       "      <td>40</td>\n",
       "      <td>0</td>\n",
       "      <td>1</td>\n",
       "      <td>0.0</td>\n",
       "      <td>5.0</td>\n",
       "      <td>...</td>\n",
       "      <td>0</td>\n",
       "      <td>0</td>\n",
       "      <td>0</td>\n",
       "      <td>0.0</td>\n",
       "      <td>0.0</td>\n",
       "      <td>0</td>\n",
       "      <td>0</td>\n",
       "      <td>0.0</td>\n",
       "      <td>5.0</td>\n",
       "      <td>0.0</td>\n",
       "    </tr>\n",
       "    <tr>\n",
       "      <th>3</th>\n",
       "      <td>47.333333</td>\n",
       "      <td>7933.333333</td>\n",
       "      <td>1.0</td>\n",
       "      <td>45.666667</td>\n",
       "      <td>1157.666667</td>\n",
       "      <td>40</td>\n",
       "      <td>1</td>\n",
       "      <td>0</td>\n",
       "      <td>0.0</td>\n",
       "      <td>3.0</td>\n",
       "      <td>...</td>\n",
       "      <td>0</td>\n",
       "      <td>0</td>\n",
       "      <td>0</td>\n",
       "      <td>0.0</td>\n",
       "      <td>0.0</td>\n",
       "      <td>0</td>\n",
       "      <td>1</td>\n",
       "      <td>0.0</td>\n",
       "      <td>0.0</td>\n",
       "      <td>2.0</td>\n",
       "    </tr>\n",
       "    <tr>\n",
       "      <th>4</th>\n",
       "      <td>209.000000</td>\n",
       "      <td>21850.000000</td>\n",
       "      <td>1.0</td>\n",
       "      <td>195.000000</td>\n",
       "      <td>3161.000000</td>\n",
       "      <td>30</td>\n",
       "      <td>1</td>\n",
       "      <td>0</td>\n",
       "      <td>0.0</td>\n",
       "      <td>6.0</td>\n",
       "      <td>...</td>\n",
       "      <td>0</td>\n",
       "      <td>0</td>\n",
       "      <td>0</td>\n",
       "      <td>1.0</td>\n",
       "      <td>0.0</td>\n",
       "      <td>0</td>\n",
       "      <td>0</td>\n",
       "      <td>0.0</td>\n",
       "      <td>5.0</td>\n",
       "      <td>0.0</td>\n",
       "    </tr>\n",
       "  </tbody>\n",
       "</table>\n",
       "<p>5 rows × 43 columns</p>\n",
       "</div>"
      ],
      "text/plain": [
       "     HITS_SEQ     PD_BUY_AM  PD_BUY_CT  TOT_PAG_VIEW_CT  TOT_SESS_HR_V  \\\n",
       "0   57.000000  38000.000000        1.0        46.500000     417.000000   \n",
       "1  284.000000  34900.000000        1.0       256.000000    7098.000000   \n",
       "2   58.000000  15360.000000        1.0        98.200000    2169.000000   \n",
       "3   47.333333   7933.333333        1.0        45.666667    1157.666667   \n",
       "4  209.000000  21850.000000        1.0       195.000000    3161.000000   \n",
       "\n",
       "   CLNT_AGE  GENDER_F  GENDER_M  DVC_desktop  DVC_mobile   ...     CLAC0_0  \\\n",
       "0        20         0         1          0.0         2.0   ...           0   \n",
       "1        30         1         0          0.0         2.0   ...           0   \n",
       "2        40         0         1          0.0         5.0   ...           0   \n",
       "3        40         1         0          0.0         3.0   ...           0   \n",
       "4        30         1         0          0.0         6.0   ...           0   \n",
       "\n",
       "   CLAC0_1  CLAC0_2  CLAC0_3  CLAC0_4  CLAC0_5  CLAC0_6  CLAC0_7  CLAC0_8  \\\n",
       "0        0        0      0.0      0.0        0        0      0.0      2.0   \n",
       "1        0        0      0.0      0.0        0        0      0.0      2.0   \n",
       "2        0        0      0.0      0.0        0        0      0.0      5.0   \n",
       "3        0        0      0.0      0.0        0        1      0.0      0.0   \n",
       "4        0        0      1.0      0.0        0        0      0.0      5.0   \n",
       "\n",
       "   CLAC0_9  \n",
       "0      0.0  \n",
       "1      0.0  \n",
       "2      0.0  \n",
       "3      2.0  \n",
       "4      0.0  \n",
       "\n",
       "[5 rows x 43 columns]"
      ]
     },
     "execution_count": 1,
     "metadata": {},
     "output_type": "execute_result"
    }
   ],
   "source": [
    "import numpy as np\n",
    "import pandas as pd\n",
    "from sklearn.preprocessing import MinMaxScaler\n",
    "from sklearn.preprocessing import scale, robust_scale, minmax_scale, maxabs_scale\n",
    "from sklearn.cluster import KMeans\n",
    "import matplotlib.pyplot as plt\n",
    "import random\n",
    "\n",
    "labels = ['furniture','electronic','pet','sports','food','travel','baby','kitchen','fashion','beauty']\n",
    "data_cluster = pd.read_csv('data_cluster.csv', dtype={\"CLNT_ID\":np.str, \"SESS_ID\":np.str},thousands=\",\")\n",
    "data_cluster.head()"
   ]
  },
  {
   "cell_type": "markdown",
   "metadata": {},
   "source": [
    "## 30대 남자 Cluster "
   ]
  },
  {
   "cell_type": "code",
   "execution_count": 2,
   "metadata": {},
   "outputs": [
    {
     "data": {
      "text/plain": [
       "(41865, 30)"
      ]
     },
     "execution_count": 2,
     "metadata": {},
     "output_type": "execute_result"
    }
   ],
   "source": [
    "cluster = data_cluster.loc[(data_cluster['GENDER_M'] == 1) & (data_cluster['CLNT_AGE'] == 30)]\n",
    "cluster = cluster.drop(['GENDER_F','GENDER_M','CLNT_AGE'], axis=1)\n",
    "#대대분류 삭제\n",
    "cluster_drop = cluster.drop(cluster.loc[:, cluster.columns.str.startswith('CLAC0')], axis = 1)\n",
    "cluster_drop.shape"
   ]
  },
  {
   "cell_type": "code",
   "execution_count": 3,
   "metadata": {},
   "outputs": [],
   "source": [
    "mms = MinMaxScaler()\n",
    "mms.fit(cluster_drop) #대대분류 뺀 column들만 갖고\n",
    "cluster_transformed = mms.transform(cluster_drop)"
   ]
  },
  {
   "cell_type": "markdown",
   "metadata": {},
   "source": [
    "#### Choosing the Number of Clusters : Elbow Method"
   ]
  },
  {
   "cell_type": "code",
   "execution_count": 4,
   "metadata": {
    "scrolled": false
   },
   "outputs": [
    {
     "data": {
      "image/png": "[encoded data removed]",
      "text/plain": [
       "<Figure size 432x288 with 1 Axes>"
      ]
     },
     "metadata": {
      "needs_background": "light"
     },
     "output_type": "display_data"
    }
   ],
   "source": [
    "SSD = []\n",
    "\n",
    "for k in range(1,10):\n",
    "    km = KMeans(n_clusters = k)\n",
    "    km = km.fit(cluster_transformed)\n",
    "    SSD.append(km.inertia_)\n",
    "    \n",
    "plt.plot(range(1,10), SSD, 'bx-')\n",
    "plt.xlabel('k')\n",
    "plt.ylabel('Sum_of_squared_distances')\n",
    "plt.title('Elbow Method For Optimal k')\n",
    "plt.show()"
   ]
  },
  {
   "cell_type": "code",
   "execution_count": 28,
   "metadata": {},
   "outputs": [],
   "source": [
    "k=3\n",
    "km = KMeans(n_clusters = k, algorithm = 'auto')\n",
    "km.fit(cluster_transformed) # 데이터를 이용하여 클러스터링을 위한 학습 시작하고 중심점 추출\n",
    "km_predict = pd.DataFrame(km.predict(cluster_transformed)) # 학습된 모델이 맞춰 라벨 리턴\n",
    "km_predict.columns = ['predict']"
   ]
  },
  {
   "cell_type": "code",
   "execution_count": 29,
   "metadata": {},
   "outputs": [],
   "source": [
    "cluster_transformed = pd.DataFrame(cluster_transformed)\n",
    "cluster_transformed.columns = cluster_drop.columns\n",
    "cluster_transformed.index = cluster.index"
   ]
  },
  {
   "cell_type": "code",
   "execution_count": 9,
   "metadata": {},
   "outputs": [
    {
     "data": {
      "text/plain": [
       "0    2591\n",
       "2     982\n",
       "1     234\n",
       "Name: predict, dtype: int64"
      ]
     },
     "execution_count": 9,
     "metadata": {},
     "output_type": "execute_result"
    }
   ],
   "source": [
    "cluster_transformed['predict'] = km.predict(cluster_transformed)\n",
    "cluster_transformed['predict'].value_counts()"
   ]
  },
  {
   "cell_type": "code",
   "execution_count": 10,
   "metadata": {},
   "outputs": [],
   "source": [
    "# predict clustering 0\n",
    "idx = np.where(cluster_transformed['predict'] == 0)\n",
    "cluster_0 = cluster.loc[cluster.index[idx]]\n",
    "\n",
    "# predict clustering 1\n",
    "idx = np.where(cluster_transformed['predict'] == 1)\n",
    "cluster_1 = cluster.loc[cluster.index[idx]]\n",
    "\n",
    "# predict clustering 2\n",
    "idx = np.where(cluster_transformed['predict'] == 2)\n",
    "cluster_2 = cluster.loc[cluster.index[idx]]"
   ]
  },
  {
   "cell_type": "code",
   "execution_count": 15,
   "metadata": {},
   "outputs": [
    {
     "data": {
      "text/plain": [
       "<BarContainer object of 10 artists>"
      ]
     },
     "execution_count": 15,
     "metadata": {},
     "output_type": "execute_result"
    },
    {
     "data": {
      "image/png": "[encoded data removed]",
      "text/plain": [
       "<Figure size 432x288 with 3 Axes>"
      ]
     },
     "metadata": {
      "needs_background": "light"
     },
     "output_type": "display_data"
    }
   ],
   "source": [
    "sum_of_sum = cluster[['CLAC0_0', 'CLAC0_1', 'CLAC0_2', 'CLAC0_3', 'CLAC0_4', 'CLAC0_5','CLAC0_6', 'CLAC0_7', 'CLAC0_8', 'CLAC0_9']].sum()\n",
    "\n",
    "# Cluster 0 \n",
    "sum0 = cluster_0[['CLAC0_0', 'CLAC0_1', 'CLAC0_2', 'CLAC0_3', 'CLAC0_4', 'CLAC0_5','CLAC0_6', 'CLAC0_7', 'CLAC0_8', 'CLAC0_9']].sum()\n",
    "plt.subplot(3, 1, 1)\n",
    "plt.bar(labels, sum0/sum_of_sum)\n",
    "\n",
    "# Cluster 1 \n",
    "sum1 = cluster_1[['CLAC0_0', 'CLAC0_1', 'CLAC0_2', 'CLAC0_3', 'CLAC0_4', 'CLAC0_5','CLAC0_6', 'CLAC0_7', 'CLAC0_8', 'CLAC0_9']].sum()\n",
    "plt.subplot(3, 1, 2)\n",
    "plt.bar(labels, sum1/sum_of_sum)\n",
    "\n",
    "# Cluster 2\n",
    "sum2 = cluster_2[['CLAC0_0', 'CLAC0_1', 'CLAC0_2', 'CLAC0_3', 'CLAC0_4', 'CLAC0_5','CLAC0_6', 'CLAC0_7', 'CLAC0_8', 'CLAC0_9']].sum()\n",
    "plt.subplot(3, 1, 3)\n",
    "plt.bar(labels, sum2/sum_of_sum)"
   ]
  },
  {
   "cell_type": "code",
   "execution_count": 20,
   "metadata": {},
   "outputs": [
    {
     "data": {
      "text/html": [
       "<div>\n",
       "<style scoped>\n",
       "    .dataframe tbody tr th:only-of-type {\n",
       "        vertical-align: middle;\n",
       "    }\n",
       "\n",
       "    .dataframe tbody tr th {\n",
       "        vertical-align: top;\n",
       "    }\n",
       "\n",
       "    .dataframe thead th {\n",
       "        text-align: right;\n",
       "    }\n",
       "</style>\n",
       "<table border=\"1\" class=\"dataframe\">\n",
       "  <thead>\n",
       "    <tr style=\"text-align: right;\">\n",
       "      <th></th>\n",
       "      <th>0</th>\n",
       "      <th>1</th>\n",
       "      <th>2</th>\n",
       "      <th>3</th>\n",
       "      <th>labels</th>\n",
       "    </tr>\n",
       "  </thead>\n",
       "  <tbody>\n",
       "    <tr>\n",
       "      <th>CLAC0_0</th>\n",
       "      <td>56.0</td>\n",
       "      <td>34.0</td>\n",
       "      <td>3.0</td>\n",
       "      <td>19.0</td>\n",
       "      <td>furniture</td>\n",
       "    </tr>\n",
       "    <tr>\n",
       "      <th>CLAC0_1</th>\n",
       "      <td>298.0</td>\n",
       "      <td>222.0</td>\n",
       "      <td>10.0</td>\n",
       "      <td>66.0</td>\n",
       "      <td>electronic</td>\n",
       "    </tr>\n",
       "    <tr>\n",
       "      <th>CLAC0_2</th>\n",
       "      <td>142.0</td>\n",
       "      <td>118.0</td>\n",
       "      <td>2.0</td>\n",
       "      <td>22.0</td>\n",
       "      <td>pet</td>\n",
       "    </tr>\n",
       "    <tr>\n",
       "      <th>CLAC0_3</th>\n",
       "      <td>3734.0</td>\n",
       "      <td>2095.0</td>\n",
       "      <td>430.0</td>\n",
       "      <td>1209.0</td>\n",
       "      <td>sports</td>\n",
       "    </tr>\n",
       "    <tr>\n",
       "      <th>CLAC0_4</th>\n",
       "      <td>321.0</td>\n",
       "      <td>268.0</td>\n",
       "      <td>11.0</td>\n",
       "      <td>42.0</td>\n",
       "      <td>food</td>\n",
       "    </tr>\n",
       "    <tr>\n",
       "      <th>CLAC0_5</th>\n",
       "      <td>167.0</td>\n",
       "      <td>150.0</td>\n",
       "      <td>5.0</td>\n",
       "      <td>12.0</td>\n",
       "      <td>travel</td>\n",
       "    </tr>\n",
       "    <tr>\n",
       "      <th>CLAC0_6</th>\n",
       "      <td>258.0</td>\n",
       "      <td>105.0</td>\n",
       "      <td>14.0</td>\n",
       "      <td>139.0</td>\n",
       "      <td>baby</td>\n",
       "    </tr>\n",
       "    <tr>\n",
       "      <th>CLAC0_7</th>\n",
       "      <td>208.0</td>\n",
       "      <td>126.0</td>\n",
       "      <td>25.0</td>\n",
       "      <td>57.0</td>\n",
       "      <td>kitchen</td>\n",
       "    </tr>\n",
       "    <tr>\n",
       "      <th>CLAC0_8</th>\n",
       "      <td>3578.0</td>\n",
       "      <td>1993.0</td>\n",
       "      <td>304.0</td>\n",
       "      <td>1281.0</td>\n",
       "      <td>fashion</td>\n",
       "    </tr>\n",
       "    <tr>\n",
       "      <th>CLAC0_9</th>\n",
       "      <td>3237.0</td>\n",
       "      <td>2199.0</td>\n",
       "      <td>107.0</td>\n",
       "      <td>931.0</td>\n",
       "      <td>beauty</td>\n",
       "    </tr>\n",
       "  </tbody>\n",
       "</table>\n",
       "</div>"
      ],
      "text/plain": [
       "              0       1      2       3      labels\n",
       "CLAC0_0    56.0    34.0    3.0    19.0   furniture\n",
       "CLAC0_1   298.0   222.0   10.0    66.0  electronic\n",
       "CLAC0_2   142.0   118.0    2.0    22.0         pet\n",
       "CLAC0_3  3734.0  2095.0  430.0  1209.0      sports\n",
       "CLAC0_4   321.0   268.0   11.0    42.0        food\n",
       "CLAC0_5   167.0   150.0    5.0    12.0      travel\n",
       "CLAC0_6   258.0   105.0   14.0   139.0        baby\n",
       "CLAC0_7   208.0   126.0   25.0    57.0     kitchen\n",
       "CLAC0_8  3578.0  1993.0  304.0  1281.0     fashion\n",
       "CLAC0_9  3237.0  2199.0  107.0   931.0      beauty"
      ]
     },
     "execution_count": 20,
     "metadata": {},
     "output_type": "execute_result"
    }
   ],
   "source": [
    "clutering = pd.concat([sum_of_sum,sum0,sum1,sum2],axis=1)\n",
    "#clutering = clutering.reindex(['오'])\n",
    "clutering['labels'] = ['furniture','electronic','pet','sports','food','travel','baby','kitchen','fashion','beauty']\n",
    "clutering"
   ]
  },
  {
   "cell_type": "code",
   "execution_count": 17,
   "metadata": {},
   "outputs": [
    {
     "data": {
      "text/plain": [
       "<BarContainer object of 10 artists>"
      ]
     },
     "execution_count": 17,
     "metadata": {},
     "output_type": "execute_result"
    },
    {
     "data": {
      "image/png": "[encoded data removed]",
      "text/plain": [
       "<Figure size 432x288 with 3 Axes>"
      ]
     },
     "metadata": {
      "needs_background": "light"
     },
     "output_type": "display_data"
    }
   ],
   "source": [
    "# Cluster 0 \n",
    "sum0 = cluster_0[['CLAC0_0', 'CLAC0_1', 'CLAC0_2', 'CLAC0_3', 'CLAC0_4', 'CLAC0_5','CLAC0_6', 'CLAC0_7', 'CLAC0_8', 'CLAC0_9']].sum()\n",
    "plt.subplot(3, 1, 1)\n",
    "plt.bar(labels, sum0/sum0.sum())\n",
    "\n",
    "# Cluster 1 \n",
    "sum1 = cluster_1[['CLAC0_0', 'CLAC0_1', 'CLAC0_2', 'CLAC0_3', 'CLAC0_4', 'CLAC0_5','CLAC0_6', 'CLAC0_7', 'CLAC0_8', 'CLAC0_9']].sum()\n",
    "plt.subplot(3, 1, 2)\n",
    "plt.bar(labels, sum1/sum1.sum())\n",
    "\n",
    "# Cluster 2\n",
    "sum2 = cluster_2[['CLAC0_0', 'CLAC0_1', 'CLAC0_2', 'CLAC0_3', 'CLAC0_4', 'CLAC0_5','CLAC0_6', 'CLAC0_7', 'CLAC0_8', 'CLAC0_9']].sum()\n",
    "plt.subplot(3, 1, 3)\n",
    "plt.bar(labels, sum2/sum2.sum())"
   ]
  },
  {
   "cell_type": "markdown",
   "metadata": {},
   "source": [
    "### predict by clustering score "
   ]
  },
  {
   "cell_type": "code",
   "execution_count": 2,
   "metadata": {},
   "outputs": [],
   "source": [
    "def clustering_index(k, new_data, data, transformed_data, category) :\n",
    "    category_rate = np.empty([3,10])\n",
    "    \n",
    "    for i in range(k) :\n",
    "        idx=np.where(cluster_transformed['predict']==i)\n",
    "        clustering = data.loc[data.index[idx]]\n",
    "        sum_of_sum = cluster[['CLAC0_0', 'CLAC0_1', 'CLAC0_2', 'CLAC0_3', 'CLAC0_4', 'CLAC0_5','CLAC0_6', 'CLAC0_7', 'CLAC0_8', 'CLAC0_9']].sum().sum()\n",
    "        category_rate[i] = (clustering[['CLAC0_0', 'CLAC0_1', 'CLAC0_2', 'CLAC0_3', 'CLAC0_4', 'CLAC0_5','CLAC0_6', 'CLAC0_7', 'CLAC0_8', 'CLAC0_9']].sum())/sum_of_sum\n",
    "    \n",
    "    diatance_from_centers = [0] * k\n",
    "    for i in range(k) :\n",
    "        diatance_from_centers[i] = np.sqrt(sum((km.cluster_centers_[i] - new_data)**2))\n",
    "\n",
    "    result = [0] * k\n",
    "    for i in range(k) :\n",
    "        result[i] = category_rate[i][category]/diatance_from_centers[i]\n",
    "\n",
    "    return sum(result)"
   ]
  },
  {
   "cell_type": "code",
   "execution_count": 19,
   "metadata": {},
   "outputs": [
    {
     "data": {
      "text/html": [
       "<div>\n",
       "<style scoped>\n",
       "    .dataframe tbody tr th:only-of-type {\n",
       "        vertical-align: middle;\n",
       "    }\n",
       "\n",
       "    .dataframe tbody tr th {\n",
       "        vertical-align: top;\n",
       "    }\n",
       "\n",
       "    .dataframe thead th {\n",
       "        text-align: right;\n",
       "    }\n",
       "</style>\n",
       "<table border=\"1\" class=\"dataframe\">\n",
       "  <thead>\n",
       "    <tr style=\"text-align: right;\">\n",
       "      <th></th>\n",
       "      <th>category</th>\n",
       "      <th>score</th>\n",
       "      <th>actual_buy</th>\n",
       "    </tr>\n",
       "  </thead>\n",
       "  <tbody>\n",
       "    <tr>\n",
       "      <th>3</th>\n",
       "      <td>sports</td>\n",
       "      <td>141.41</td>\n",
       "      <td>1.0</td>\n",
       "    </tr>\n",
       "    <tr>\n",
       "      <th>8</th>\n",
       "      <td>fashion</td>\n",
       "      <td>139.14</td>\n",
       "      <td>4.0</td>\n",
       "    </tr>\n",
       "    <tr>\n",
       "      <th>9</th>\n",
       "      <td>beauty</td>\n",
       "      <td>127.88</td>\n",
       "      <td>0.0</td>\n",
       "    </tr>\n",
       "    <tr>\n",
       "      <th>4</th>\n",
       "      <td>food</td>\n",
       "      <td>12.23</td>\n",
       "      <td>0.0</td>\n",
       "    </tr>\n",
       "    <tr>\n",
       "      <th>1</th>\n",
       "      <td>electronic</td>\n",
       "      <td>11.60</td>\n",
       "      <td>2.0</td>\n",
       "    </tr>\n",
       "    <tr>\n",
       "      <th>6</th>\n",
       "      <td>baby</td>\n",
       "      <td>10.63</td>\n",
       "      <td>0.0</td>\n",
       "    </tr>\n",
       "    <tr>\n",
       "      <th>7</th>\n",
       "      <td>kitchen</td>\n",
       "      <td>7.76</td>\n",
       "      <td>0.0</td>\n",
       "    </tr>\n",
       "    <tr>\n",
       "      <th>5</th>\n",
       "      <td>travel</td>\n",
       "      <td>6.30</td>\n",
       "      <td>0.0</td>\n",
       "    </tr>\n",
       "    <tr>\n",
       "      <th>2</th>\n",
       "      <td>pet</td>\n",
       "      <td>5.51</td>\n",
       "      <td>0.0</td>\n",
       "    </tr>\n",
       "    <tr>\n",
       "      <th>0</th>\n",
       "      <td>furniture</td>\n",
       "      <td>2.21</td>\n",
       "      <td>0.0</td>\n",
       "    </tr>\n",
       "  </tbody>\n",
       "</table>\n",
       "</div>"
      ],
      "text/plain": [
       "     category   score  actual_buy\n",
       "3      sports  141.41         1.0\n",
       "8     fashion  139.14         4.0\n",
       "9      beauty  127.88         0.0\n",
       "4        food   12.23         0.0\n",
       "1  electronic   11.60         2.0\n",
       "6        baby   10.63         0.0\n",
       "7     kitchen    7.76         0.0\n",
       "5      travel    6.30         0.0\n",
       "2         pet    5.51         0.0\n",
       "0   furniture    2.21         0.0"
      ]
     },
     "execution_count": 19,
     "metadata": {},
     "output_type": "execute_result"
    }
   ],
   "source": [
    "random_idx = cluster_transformed.index[random.randint(0,len(cluster_transformed))]\n",
    "random_data = cluster_transformed.loc[random_idx, :\"month_9\"]\n",
    "\n",
    "score = []\n",
    "for i in range(10) :\n",
    "    s = clustering_index(3, random_data, cluster, cluster_transformed, i)*100\n",
    "    score.append(round(s,2))\n",
    "actual = list(cluster.loc[random_idx,'CLAC0_0':'CLAC0_9'].values)\n",
    "pd.DataFrame({'category': labels,'score':score,'actual_buy':actual}).sort_values(['score'],ascending=False)"
   ]
  },
  {
   "cell_type": "markdown",
   "metadata": {},
   "source": [
    "## 30대 여자 Cluster"
   ]
  },
  {
   "cell_type": "code",
   "execution_count": 3,
   "metadata": {},
   "outputs": [
    {
     "data": {
      "text/plain": [
       "(271628, 30)"
      ]
     },
     "execution_count": 3,
     "metadata": {},
     "output_type": "execute_result"
    }
   ],
   "source": [
    "cluster = data_cluster.loc[(data_cluster['GENDER_F'] == 1) & (data_cluster['CLNT_AGE'] == 30)]\n",
    "cluster = cluster.drop(['GENDER_F','GENDER_M','CLNT_AGE'], axis=1)\n",
    "#대대분류 삭제\n",
    "cluster_drop = cluster.drop(cluster.loc[:, cluster.columns.str.startswith('CLAC0')], axis = 1)\n",
    "cluster_drop.shape"
   ]
  },
  {
   "cell_type": "code",
   "execution_count": 4,
   "metadata": {},
   "outputs": [],
   "source": [
    "mms = MinMaxScaler()\n",
    "mms.fit(cluster_drop) #대대분류 뺀 column들만 갖고\n",
    "cluster_transformed = mms.transform(cluster_drop)"
   ]
  },
  {
   "cell_type": "markdown",
   "metadata": {},
   "source": [
    "#### Choosing the Number of Clusters : Elbow Method"
   ]
  },
  {
   "cell_type": "code",
   "execution_count": 5,
   "metadata": {
    "scrolled": false
   },
   "outputs": [],
   "source": [
    "SSD = []\n",
    "\n",
    "for k in range(1,10):\n",
    "    km = KMeans(n_clusters = k)\n",
    "    km = km.fit(cluster_transformed)\n",
    "    SSD.append(km.inertia_)"
   ]
  },
  {
   "cell_type": "code",
   "execution_count": 6,
   "metadata": {},
   "outputs": [
    {
     "data": {
      "image/png": "[encoded data removed]",
      "text/plain": [
       "<Figure size 432x288 with 1 Axes>"
      ]
     },
     "metadata": {
      "needs_background": "light"
     },
     "output_type": "display_data"
    }
   ],
   "source": [
    "plt.plot(range(1,10), SSD, 'bx-')\n",
    "plt.xlabel('k')\n",
    "plt.ylabel('Sum_of_squared_distances')\n",
    "plt.title('Elbow Method For Optimal k')\n",
    "plt.show()"
   ]
  },
  {
   "cell_type": "code",
   "execution_count": 7,
   "metadata": {},
   "outputs": [],
   "source": [
    "k=3\n",
    "km = KMeans(n_clusters = k, algorithm = 'auto')\n",
    "km.fit(cluster_transformed) # 데이터를 이용하여 클러스터링을 위한 학습 시작하고 중심점 추출\n",
    "km_predict = pd.DataFrame(km.predict(cluster_transformed)) # 학습된 모델이 맞춰 라벨 리턴\n",
    "km_predict.columns = ['predict']"
   ]
  },
  {
   "cell_type": "code",
   "execution_count": 8,
   "metadata": {},
   "outputs": [],
   "source": [
    "cluster_transformed = pd.DataFrame(cluster_transformed)\n",
    "cluster_transformed.columns = cluster_drop.columns\n",
    "cluster_transformed.index = cluster.index"
   ]
  },
  {
   "cell_type": "code",
   "execution_count": 9,
   "metadata": {},
   "outputs": [
    {
     "data": {
      "text/plain": [
       "0    176883\n",
       "1     75820\n",
       "2     18925\n",
       "Name: predict, dtype: int64"
      ]
     },
     "execution_count": 9,
     "metadata": {},
     "output_type": "execute_result"
    }
   ],
   "source": [
    "cluster_transformed['predict'] = km.predict(cluster_transformed)\n",
    "cluster_transformed['predict'].value_counts()"
   ]
  },
  {
   "cell_type": "code",
   "execution_count": 11,
   "metadata": {},
   "outputs": [],
   "source": [
    "# predict clustering 0\n",
    "idx = np.where(cluster_transformed['predict'] == 0)\n",
    "cluster_0 = cluster.loc[cluster.index[idx]]\n",
    "\n",
    "# predict clustering 1\n",
    "idx = np.where(cluster_transformed['predict'] == 1)\n",
    "cluster_1 = cluster.loc[cluster.index[idx]]\n",
    "\n",
    "# predict clustering 2\n",
    "idx = np.where(cluster_transformed['predict'] == 2)\n",
    "cluster_2 = cluster.loc[cluster.index[idx]]"
   ]
  },
  {
   "cell_type": "code",
   "execution_count": 12,
   "metadata": {},
   "outputs": [
    {
     "data": {
      "text/plain": [
       "<BarContainer object of 10 artists>"
      ]
     },
     "execution_count": 12,
     "metadata": {},
     "output_type": "execute_result"
    },
    {
     "data": {
      "image/png": "[encoded data removed]",
      "text/plain": [
       "<Figure size 432x288 with 3 Axes>"
      ]
     },
     "metadata": {
      "needs_background": "light"
     },
     "output_type": "display_data"
    }
   ],
   "source": [
    "sum_of_sum = cluster[['CLAC0_0', 'CLAC0_1', 'CLAC0_2', 'CLAC0_3', 'CLAC0_4', 'CLAC0_5','CLAC0_6', 'CLAC0_7', 'CLAC0_8', 'CLAC0_9']].sum()\n",
    "\n",
    "# Cluster 0 \n",
    "sum0 = cluster_0[['CLAC0_0', 'CLAC0_1', 'CLAC0_2', 'CLAC0_3', 'CLAC0_4', 'CLAC0_5','CLAC0_6', 'CLAC0_7', 'CLAC0_8', 'CLAC0_9']].sum()\n",
    "plt.subplot(3, 1, 1)\n",
    "plt.bar(labels, sum0/sum_of_sum)\n",
    "\n",
    "# Cluster 1 \n",
    "sum1 = cluster_1[['CLAC0_0', 'CLAC0_1', 'CLAC0_2', 'CLAC0_3', 'CLAC0_4', 'CLAC0_5','CLAC0_6', 'CLAC0_7', 'CLAC0_8', 'CLAC0_9']].sum()\n",
    "plt.subplot(3, 1, 2)\n",
    "plt.bar(labels, sum1/sum_of_sum)\n",
    "\n",
    "# Cluster 2\n",
    "sum2 = cluster_2[['CLAC0_0', 'CLAC0_1', 'CLAC0_2', 'CLAC0_3', 'CLAC0_4', 'CLAC0_5','CLAC0_6', 'CLAC0_7', 'CLAC0_8', 'CLAC0_9']].sum()\n",
    "plt.subplot(3, 1, 3)\n",
    "plt.bar(labels, sum2/sum_of_sum)"
   ]
  },
  {
   "cell_type": "code",
   "execution_count": 13,
   "metadata": {},
   "outputs": [
    {
     "data": {
      "text/html": [
       "<div>\n",
       "<style scoped>\n",
       "    .dataframe tbody tr th:only-of-type {\n",
       "        vertical-align: middle;\n",
       "    }\n",
       "\n",
       "    .dataframe tbody tr th {\n",
       "        vertical-align: top;\n",
       "    }\n",
       "\n",
       "    .dataframe thead th {\n",
       "        text-align: right;\n",
       "    }\n",
       "</style>\n",
       "<table border=\"1\" class=\"dataframe\">\n",
       "  <thead>\n",
       "    <tr style=\"text-align: right;\">\n",
       "      <th></th>\n",
       "      <th>0</th>\n",
       "      <th>1</th>\n",
       "      <th>2</th>\n",
       "      <th>3</th>\n",
       "      <th>labels</th>\n",
       "    </tr>\n",
       "  </thead>\n",
       "  <tbody>\n",
       "    <tr>\n",
       "      <th>CLAC0_0</th>\n",
       "      <td>40670.0</td>\n",
       "      <td>22052.0</td>\n",
       "      <td>15878.0</td>\n",
       "      <td>2740.0</td>\n",
       "      <td>furniture</td>\n",
       "    </tr>\n",
       "    <tr>\n",
       "      <th>CLAC0_1</th>\n",
       "      <td>28007.0</td>\n",
       "      <td>14609.0</td>\n",
       "      <td>11709.0</td>\n",
       "      <td>1689.0</td>\n",
       "      <td>electronic</td>\n",
       "    </tr>\n",
       "    <tr>\n",
       "      <th>CLAC0_2</th>\n",
       "      <td>24519.0</td>\n",
       "      <td>12838.0</td>\n",
       "      <td>9836.0</td>\n",
       "      <td>1845.0</td>\n",
       "      <td>pet</td>\n",
       "    </tr>\n",
       "    <tr>\n",
       "      <th>CLAC0_3</th>\n",
       "      <td>219670.0</td>\n",
       "      <td>100956.0</td>\n",
       "      <td>96220.0</td>\n",
       "      <td>22494.0</td>\n",
       "      <td>sports</td>\n",
       "    </tr>\n",
       "    <tr>\n",
       "      <th>CLAC0_4</th>\n",
       "      <td>62919.0</td>\n",
       "      <td>35859.0</td>\n",
       "      <td>23401.0</td>\n",
       "      <td>3659.0</td>\n",
       "      <td>food</td>\n",
       "    </tr>\n",
       "    <tr>\n",
       "      <th>CLAC0_5</th>\n",
       "      <td>3877.0</td>\n",
       "      <td>2952.0</td>\n",
       "      <td>823.0</td>\n",
       "      <td>102.0</td>\n",
       "      <td>travel</td>\n",
       "    </tr>\n",
       "    <tr>\n",
       "      <th>CLAC0_6</th>\n",
       "      <td>260839.0</td>\n",
       "      <td>116756.0</td>\n",
       "      <td>114322.0</td>\n",
       "      <td>29761.0</td>\n",
       "      <td>baby</td>\n",
       "    </tr>\n",
       "    <tr>\n",
       "      <th>CLAC0_7</th>\n",
       "      <td>79451.0</td>\n",
       "      <td>39067.0</td>\n",
       "      <td>34738.0</td>\n",
       "      <td>5646.0</td>\n",
       "      <td>kitchen</td>\n",
       "    </tr>\n",
       "    <tr>\n",
       "      <th>CLAC0_8</th>\n",
       "      <td>614891.0</td>\n",
       "      <td>258843.0</td>\n",
       "      <td>284094.0</td>\n",
       "      <td>71954.0</td>\n",
       "      <td>fashion</td>\n",
       "    </tr>\n",
       "    <tr>\n",
       "      <th>CLAC0_9</th>\n",
       "      <td>226919.0</td>\n",
       "      <td>123350.0</td>\n",
       "      <td>90054.0</td>\n",
       "      <td>13515.0</td>\n",
       "      <td>beauty</td>\n",
       "    </tr>\n",
       "  </tbody>\n",
       "</table>\n",
       "</div>"
      ],
      "text/plain": [
       "                0         1         2        3      labels\n",
       "CLAC0_0   40670.0   22052.0   15878.0   2740.0   furniture\n",
       "CLAC0_1   28007.0   14609.0   11709.0   1689.0  electronic\n",
       "CLAC0_2   24519.0   12838.0    9836.0   1845.0         pet\n",
       "CLAC0_3  219670.0  100956.0   96220.0  22494.0      sports\n",
       "CLAC0_4   62919.0   35859.0   23401.0   3659.0        food\n",
       "CLAC0_5    3877.0    2952.0     823.0    102.0      travel\n",
       "CLAC0_6  260839.0  116756.0  114322.0  29761.0        baby\n",
       "CLAC0_7   79451.0   39067.0   34738.0   5646.0     kitchen\n",
       "CLAC0_8  614891.0  258843.0  284094.0  71954.0     fashion\n",
       "CLAC0_9  226919.0  123350.0   90054.0  13515.0      beauty"
      ]
     },
     "execution_count": 13,
     "metadata": {},
     "output_type": "execute_result"
    }
   ],
   "source": [
    "clutering = pd.concat([sum_of_sum,sum0,sum1,sum2],axis=1)\n",
    "#clutering = clutering.reindex(['오'])\n",
    "clutering['labels'] = ['furniture','electronic','pet','sports','food','travel','baby','kitchen','fashion','beauty']\n",
    "clutering"
   ]
  },
  {
   "cell_type": "code",
   "execution_count": 14,
   "metadata": {},
   "outputs": [
    {
     "data": {
      "text/plain": [
       "<BarContainer object of 10 artists>"
      ]
     },
     "execution_count": 14,
     "metadata": {},
     "output_type": "execute_result"
    },
    {
     "data": {
      "image/png": "[encoded data removed]",
      "text/plain": [
       "<Figure size 432x288 with 3 Axes>"
      ]
     },
     "metadata": {
      "needs_background": "light"
     },
     "output_type": "display_data"
    }
   ],
   "source": [
    "# Cluster 0 \n",
    "sum0 = cluster_0[['CLAC0_0', 'CLAC0_1', 'CLAC0_2', 'CLAC0_3', 'CLAC0_4', 'CLAC0_5','CLAC0_6', 'CLAC0_7', 'CLAC0_8', 'CLAC0_9']].sum()\n",
    "plt.subplot(3, 1, 1)\n",
    "plt.bar(labels, sum0/sum0.sum())\n",
    "\n",
    "# Cluster 1 \n",
    "sum1 = cluster_1[['CLAC0_0', 'CLAC0_1', 'CLAC0_2', 'CLAC0_3', 'CLAC0_4', 'CLAC0_5','CLAC0_6', 'CLAC0_7', 'CLAC0_8', 'CLAC0_9']].sum()\n",
    "plt.subplot(3, 1, 2)\n",
    "plt.bar(labels, sum1/sum1.sum())\n",
    "\n",
    "# Cluster 2\n",
    "sum2 = cluster_2[['CLAC0_0', 'CLAC0_1', 'CLAC0_2', 'CLAC0_3', 'CLAC0_4', 'CLAC0_5','CLAC0_6', 'CLAC0_7', 'CLAC0_8', 'CLAC0_9']].sum()\n",
    "plt.subplot(3, 1, 3)\n",
    "plt.bar(labels, sum2/sum2.sum())"
   ]
  },
  {
   "cell_type": "markdown",
   "metadata": {},
   "source": [
    "### predict by clustering score "
   ]
  },
  {
   "cell_type": "code",
   "execution_count": 16,
   "metadata": {},
   "outputs": [
    {
     "data": {
      "text/html": [
       "<div>\n",
       "<style scoped>\n",
       "    .dataframe tbody tr th:only-of-type {\n",
       "        vertical-align: middle;\n",
       "    }\n",
       "\n",
       "    .dataframe tbody tr th {\n",
       "        vertical-align: top;\n",
       "    }\n",
       "\n",
       "    .dataframe thead th {\n",
       "        text-align: right;\n",
       "    }\n",
       "</style>\n",
       "<table border=\"1\" class=\"dataframe\">\n",
       "  <thead>\n",
       "    <tr style=\"text-align: right;\">\n",
       "      <th></th>\n",
       "      <th>category</th>\n",
       "      <th>score</th>\n",
       "      <th>actual_buy</th>\n",
       "    </tr>\n",
       "  </thead>\n",
       "  <tbody>\n",
       "    <tr>\n",
       "      <th>8</th>\n",
       "      <td>fashion</td>\n",
       "      <td>378.05</td>\n",
       "      <td>0.0</td>\n",
       "    </tr>\n",
       "    <tr>\n",
       "      <th>9</th>\n",
       "      <td>beauty</td>\n",
       "      <td>167.63</td>\n",
       "      <td>1.0</td>\n",
       "    </tr>\n",
       "    <tr>\n",
       "      <th>6</th>\n",
       "      <td>baby</td>\n",
       "      <td>167.05</td>\n",
       "      <td>0.0</td>\n",
       "    </tr>\n",
       "    <tr>\n",
       "      <th>3</th>\n",
       "      <td>sports</td>\n",
       "      <td>143.52</td>\n",
       "      <td>0.0</td>\n",
       "    </tr>\n",
       "    <tr>\n",
       "      <th>7</th>\n",
       "      <td>kitchen</td>\n",
       "      <td>54.67</td>\n",
       "      <td>0.0</td>\n",
       "    </tr>\n",
       "    <tr>\n",
       "      <th>4</th>\n",
       "      <td>food</td>\n",
       "      <td>48.06</td>\n",
       "      <td>0.0</td>\n",
       "    </tr>\n",
       "    <tr>\n",
       "      <th>0</th>\n",
       "      <td>furniture</td>\n",
       "      <td>29.95</td>\n",
       "      <td>1.0</td>\n",
       "    </tr>\n",
       "    <tr>\n",
       "      <th>1</th>\n",
       "      <td>electronic</td>\n",
       "      <td>20.10</td>\n",
       "      <td>0.0</td>\n",
       "    </tr>\n",
       "    <tr>\n",
       "      <th>2</th>\n",
       "      <td>pet</td>\n",
       "      <td>17.60</td>\n",
       "      <td>0.0</td>\n",
       "    </tr>\n",
       "    <tr>\n",
       "      <th>5</th>\n",
       "      <td>travel</td>\n",
       "      <td>3.68</td>\n",
       "      <td>0.0</td>\n",
       "    </tr>\n",
       "  </tbody>\n",
       "</table>\n",
       "</div>"
      ],
      "text/plain": [
       "     category   score  actual_buy\n",
       "8     fashion  378.05         0.0\n",
       "9      beauty  167.63         1.0\n",
       "6        baby  167.05         0.0\n",
       "3      sports  143.52         0.0\n",
       "7     kitchen   54.67         0.0\n",
       "4        food   48.06         0.0\n",
       "0   furniture   29.95         1.0\n",
       "1  electronic   20.10         0.0\n",
       "2         pet   17.60         0.0\n",
       "5      travel    3.68         0.0"
      ]
     },
     "execution_count": 16,
     "metadata": {},
     "output_type": "execute_result"
    }
   ],
   "source": [
    "random_idx = cluster_transformed.index[random.randint(0,len(cluster_transformed))]\n",
    "random_data = cluster_transformed.loc[random_idx, :\"month_9\"]\n",
    "\n",
    "score = []\n",
    "for i in range(10) :\n",
    "    s = clustering_index(3, random_data, cluster, cluster_transformed, i)*100\n",
    "    score.append(round(s,2))\n",
    "actual = list(cluster.loc[random_idx,'CLAC0_0':'CLAC0_9'].values)\n",
    "pd.DataFrame({'category': labels,'score':score,'actual_buy':actual}).sort_values(['score'],ascending=False)"
   ]
  },
  {
   "cell_type": "code",
   "execution_count": null,
   "metadata": {},
   "outputs": [],
   "source": []
  },
  {
   "cell_type": "markdown",
   "metadata": {},
   "source": [
    "## 10대 Cluster (10대 남자가 800명이라 cluster 불가)"
   ]
  },
  {
   "cell_type": "code",
   "execution_count": 5,
   "metadata": {},
   "outputs": [
    {
     "data": {
      "text/plain": [
       "(3807, 30)"
      ]
     },
     "execution_count": 5,
     "metadata": {},
     "output_type": "execute_result"
    }
   ],
   "source": [
    "cluster = data_cluster.loc[(data_cluster['CLNT_AGE'] == 10)] \n",
    "cluster = cluster.drop(['GENDER_F','GENDER_M','CLNT_AGE'], axis=1)\n",
    "#대대분류 삭제\n",
    "cluster_drop = cluster.drop(cluster.loc[:, cluster.columns.str.startswith('CLAC0')], axis = 1)\n",
    "cluster_drop.shape"
   ]
  },
  {
   "cell_type": "code",
   "execution_count": 6,
   "metadata": {},
   "outputs": [],
   "source": [
    "mms = MinMaxScaler()\n",
    "mms.fit(cluster_drop) #대대분류 뺀 column들만 갖고\n",
    "cluster_transformed = mms.transform(cluster_drop)"
   ]
  },
  {
   "cell_type": "markdown",
   "metadata": {},
   "source": [
    "#### Choosing the Number of Clusters : Elbow Method"
   ]
  },
  {
   "cell_type": "code",
   "execution_count": 26,
   "metadata": {
    "scrolled": false
   },
   "outputs": [],
   "source": [
    "SSD = []\n",
    "\n",
    "for k in range(1,10):\n",
    "    km = KMeans(n_clusters = k)\n",
    "    km = km.fit(cluster_transformed)\n",
    "    SSD.append(km.inertia_)"
   ]
  },
  {
   "cell_type": "code",
   "execution_count": 27,
   "metadata": {},
   "outputs": [
    {
     "data": {
      "image/png": "[encoded data removed]",
      "text/plain": [
       "<Figure size 432x288 with 1 Axes>"
      ]
     },
     "metadata": {
      "needs_background": "light"
     },
     "output_type": "display_data"
    }
   ],
   "source": [
    "plt.plot(range(1,10), SSD, 'bx-')\n",
    "plt.xlabel('k')\n",
    "plt.ylabel('Sum_of_squared_distances')\n",
    "plt.title('Elbow Method For Optimal k')\n",
    "plt.show()"
   ]
  },
  {
   "cell_type": "code",
   "execution_count": 7,
   "metadata": {},
   "outputs": [],
   "source": [
    "k=3\n",
    "km = KMeans(n_clusters = k, algorithm = 'auto')\n",
    "km.fit(cluster_transformed) # 데이터를 이용하여 클러스터링을 위한 학습 시작하고 중심점 추출\n",
    "km_predict = pd.DataFrame(km.predict(cluster_transformed)) # 학습된 모델이 맞춰 라벨 리턴\n",
    "km_predict.columns = ['predict']"
   ]
  },
  {
   "cell_type": "code",
   "execution_count": 8,
   "metadata": {},
   "outputs": [],
   "source": [
    "cluster_transformed = pd.DataFrame(cluster_transformed)\n",
    "cluster_transformed.columns = cluster_drop.columns\n",
    "cluster_transformed.index = cluster.index"
   ]
  },
  {
   "cell_type": "code",
   "execution_count": 9,
   "metadata": {},
   "outputs": [
    {
     "data": {
      "text/plain": [
       "1    2584\n",
       "0     987\n",
       "2     236\n",
       "Name: predict, dtype: int64"
      ]
     },
     "execution_count": 9,
     "metadata": {},
     "output_type": "execute_result"
    }
   ],
   "source": [
    "cluster_transformed['predict'] = km.predict(cluster_transformed)\n",
    "cluster_transformed['predict'].value_counts()"
   ]
  },
  {
   "cell_type": "code",
   "execution_count": 10,
   "metadata": {},
   "outputs": [],
   "source": [
    "# predict clustering 0\n",
    "idx = np.where(cluster_transformed['predict'] == 0)\n",
    "cluster_0 = cluster.loc[cluster.index[idx]]\n",
    "\n",
    "# predict clustering 1\n",
    "idx = np.where(cluster_transformed['predict'] == 1)\n",
    "cluster_1 = cluster.loc[cluster.index[idx]]\n",
    "\n",
    "# predict clustering 2\n",
    "idx = np.where(cluster_transformed['predict'] == 2)\n",
    "cluster_2 = cluster.loc[cluster.index[idx]]"
   ]
  },
  {
   "cell_type": "code",
   "execution_count": 13,
   "metadata": {},
   "outputs": [
    {
     "data": {
      "text/plain": [
       "<BarContainer object of 10 artists>"
      ]
     },
     "execution_count": 13,
     "metadata": {},
     "output_type": "execute_result"
    },
    {
     "data": {
      "image/png": "[encoded data removed]",
      "text/plain": [
       "<Figure size 432x288 with 3 Axes>"
      ]
     },
     "metadata": {
      "needs_background": "light"
     },
     "output_type": "display_data"
    }
   ],
   "source": [
    "sum_of_sum = cluster[['CLAC0_0', 'CLAC0_1', 'CLAC0_2', 'CLAC0_3', 'CLAC0_4', 'CLAC0_5','CLAC0_6', 'CLAC0_7', 'CLAC0_8', 'CLAC0_9']].sum()\n",
    "\n",
    "# Cluster 0 \n",
    "sum0 = cluster_0[['CLAC0_0', 'CLAC0_1', 'CLAC0_2', 'CLAC0_3', 'CLAC0_4', 'CLAC0_5','CLAC0_6', 'CLAC0_7', 'CLAC0_8', 'CLAC0_9']].sum()\n",
    "plt.subplot(3, 1, 1)\n",
    "plt.bar(labels, sum0/sum_of_sum)\n",
    "\n",
    "# Cluster 1 \n",
    "sum1 = cluster_1[['CLAC0_0', 'CLAC0_1', 'CLAC0_2', 'CLAC0_3', 'CLAC0_4', 'CLAC0_5','CLAC0_6', 'CLAC0_7', 'CLAC0_8', 'CLAC0_9']].sum()\n",
    "plt.subplot(3, 1, 2)\n",
    "plt.bar(labels, sum1/sum_of_sum)\n",
    "\n",
    "# Cluster 2\n",
    "sum2 = cluster_2[['CLAC0_0', 'CLAC0_1', 'CLAC0_2', 'CLAC0_3', 'CLAC0_4', 'CLAC0_5','CLAC0_6', 'CLAC0_7', 'CLAC0_8', 'CLAC0_9']].sum()\n",
    "plt.subplot(3, 1, 3)\n",
    "plt.bar(labels, sum2/sum_of_sum)"
   ]
  },
  {
   "cell_type": "code",
   "execution_count": 14,
   "metadata": {},
   "outputs": [
    {
     "data": {
      "text/html": [
       "<div>\n",
       "<style scoped>\n",
       "    .dataframe tbody tr th:only-of-type {\n",
       "        vertical-align: middle;\n",
       "    }\n",
       "\n",
       "    .dataframe tbody tr th {\n",
       "        vertical-align: top;\n",
       "    }\n",
       "\n",
       "    .dataframe thead th {\n",
       "        text-align: right;\n",
       "    }\n",
       "</style>\n",
       "<table border=\"1\" class=\"dataframe\">\n",
       "  <thead>\n",
       "    <tr style=\"text-align: right;\">\n",
       "      <th></th>\n",
       "      <th>0</th>\n",
       "      <th>1</th>\n",
       "      <th>2</th>\n",
       "      <th>3</th>\n",
       "      <th>labels</th>\n",
       "    </tr>\n",
       "  </thead>\n",
       "  <tbody>\n",
       "    <tr>\n",
       "      <th>CLAC0_0</th>\n",
       "      <td>56.0</td>\n",
       "      <td>19.0</td>\n",
       "      <td>34.0</td>\n",
       "      <td>3.0</td>\n",
       "      <td>furniture</td>\n",
       "    </tr>\n",
       "    <tr>\n",
       "      <th>CLAC0_1</th>\n",
       "      <td>298.0</td>\n",
       "      <td>66.0</td>\n",
       "      <td>222.0</td>\n",
       "      <td>10.0</td>\n",
       "      <td>electronic</td>\n",
       "    </tr>\n",
       "    <tr>\n",
       "      <th>CLAC0_2</th>\n",
       "      <td>142.0</td>\n",
       "      <td>22.0</td>\n",
       "      <td>118.0</td>\n",
       "      <td>2.0</td>\n",
       "      <td>pet</td>\n",
       "    </tr>\n",
       "    <tr>\n",
       "      <th>CLAC0_3</th>\n",
       "      <td>3734.0</td>\n",
       "      <td>1220.0</td>\n",
       "      <td>2084.0</td>\n",
       "      <td>430.0</td>\n",
       "      <td>sports</td>\n",
       "    </tr>\n",
       "    <tr>\n",
       "      <th>CLAC0_4</th>\n",
       "      <td>321.0</td>\n",
       "      <td>42.0</td>\n",
       "      <td>268.0</td>\n",
       "      <td>11.0</td>\n",
       "      <td>food</td>\n",
       "    </tr>\n",
       "    <tr>\n",
       "      <th>CLAC0_5</th>\n",
       "      <td>167.0</td>\n",
       "      <td>12.0</td>\n",
       "      <td>150.0</td>\n",
       "      <td>5.0</td>\n",
       "      <td>travel</td>\n",
       "    </tr>\n",
       "    <tr>\n",
       "      <th>CLAC0_6</th>\n",
       "      <td>258.0</td>\n",
       "      <td>139.0</td>\n",
       "      <td>105.0</td>\n",
       "      <td>14.0</td>\n",
       "      <td>baby</td>\n",
       "    </tr>\n",
       "    <tr>\n",
       "      <th>CLAC0_7</th>\n",
       "      <td>208.0</td>\n",
       "      <td>57.0</td>\n",
       "      <td>126.0</td>\n",
       "      <td>25.0</td>\n",
       "      <td>kitchen</td>\n",
       "    </tr>\n",
       "    <tr>\n",
       "      <th>CLAC0_8</th>\n",
       "      <td>3578.0</td>\n",
       "      <td>1288.0</td>\n",
       "      <td>1980.0</td>\n",
       "      <td>310.0</td>\n",
       "      <td>fashion</td>\n",
       "    </tr>\n",
       "    <tr>\n",
       "      <th>CLAC0_9</th>\n",
       "      <td>3237.0</td>\n",
       "      <td>930.0</td>\n",
       "      <td>2198.0</td>\n",
       "      <td>109.0</td>\n",
       "      <td>beauty</td>\n",
       "    </tr>\n",
       "  </tbody>\n",
       "</table>\n",
       "</div>"
      ],
      "text/plain": [
       "              0       1       2      3      labels\n",
       "CLAC0_0    56.0    19.0    34.0    3.0   furniture\n",
       "CLAC0_1   298.0    66.0   222.0   10.0  electronic\n",
       "CLAC0_2   142.0    22.0   118.0    2.0         pet\n",
       "CLAC0_3  3734.0  1220.0  2084.0  430.0      sports\n",
       "CLAC0_4   321.0    42.0   268.0   11.0        food\n",
       "CLAC0_5   167.0    12.0   150.0    5.0      travel\n",
       "CLAC0_6   258.0   139.0   105.0   14.0        baby\n",
       "CLAC0_7   208.0    57.0   126.0   25.0     kitchen\n",
       "CLAC0_8  3578.0  1288.0  1980.0  310.0     fashion\n",
       "CLAC0_9  3237.0   930.0  2198.0  109.0      beauty"
      ]
     },
     "execution_count": 14,
     "metadata": {},
     "output_type": "execute_result"
    }
   ],
   "source": [
    "clutering = pd.concat([sum_of_sum,sum0,sum1,sum2],axis=1)\n",
    "#clutering = clutering.reindex(['오'])\n",
    "clutering['labels'] = ['furniture','electronic','pet','sports','food','travel','baby','kitchen','fashion','beauty']\n",
    "clutering"
   ]
  },
  {
   "cell_type": "code",
   "execution_count": 15,
   "metadata": {},
   "outputs": [
    {
     "data": {
      "text/plain": [
       "<BarContainer object of 10 artists>"
      ]
     },
     "execution_count": 15,
     "metadata": {},
     "output_type": "execute_result"
    },
    {
     "data": {
      "image/png": "[encoded data removed]",
      "text/plain": [
       "<Figure size 432x288 with 3 Axes>"
      ]
     },
     "metadata": {
      "needs_background": "light"
     },
     "output_type": "display_data"
    }
   ],
   "source": [
    "# Cluster 0 \n",
    "sum0 = cluster_0[['CLAC0_0', 'CLAC0_1', 'CLAC0_2', 'CLAC0_3', 'CLAC0_4', 'CLAC0_5','CLAC0_6', 'CLAC0_7', 'CLAC0_8', 'CLAC0_9']].sum()\n",
    "plt.subplot(3, 1, 1)\n",
    "plt.bar(labels, sum0/sum0.sum())\n",
    "\n",
    "# Cluster 1 \n",
    "sum1 = cluster_1[['CLAC0_0', 'CLAC0_1', 'CLAC0_2', 'CLAC0_3', 'CLAC0_4', 'CLAC0_5','CLAC0_6', 'CLAC0_7', 'CLAC0_8', 'CLAC0_9']].sum()\n",
    "plt.subplot(3, 1, 2)\n",
    "plt.bar(labels, sum1/sum1.sum())\n",
    "\n",
    "# Cluster 2\n",
    "sum2 = cluster_2[['CLAC0_0', 'CLAC0_1', 'CLAC0_2', 'CLAC0_3', 'CLAC0_4', 'CLAC0_5','CLAC0_6', 'CLAC0_7', 'CLAC0_8', 'CLAC0_9']].sum()\n",
    "plt.subplot(3, 1, 3)\n",
    "plt.bar(labels, sum2/sum2.sum())"
   ]
  },
  {
   "cell_type": "markdown",
   "metadata": {},
   "source": [
    "### predict by clustering score "
   ]
  },
  {
   "cell_type": "code",
   "execution_count": 18,
   "metadata": {},
   "outputs": [
    {
     "data": {
      "text/html": [
       "<div>\n",
       "<style scoped>\n",
       "    .dataframe tbody tr th:only-of-type {\n",
       "        vertical-align: middle;\n",
       "    }\n",
       "\n",
       "    .dataframe tbody tr th {\n",
       "        vertical-align: top;\n",
       "    }\n",
       "\n",
       "    .dataframe thead th {\n",
       "        text-align: right;\n",
       "    }\n",
       "</style>\n",
       "<table border=\"1\" class=\"dataframe\">\n",
       "  <thead>\n",
       "    <tr style=\"text-align: right;\">\n",
       "      <th></th>\n",
       "      <th>category</th>\n",
       "      <th>score</th>\n",
       "      <th>actual_buy</th>\n",
       "    </tr>\n",
       "  </thead>\n",
       "  <tbody>\n",
       "    <tr>\n",
       "      <th>9</th>\n",
       "      <td>beauty</td>\n",
       "      <td>246.63</td>\n",
       "      <td>0.0</td>\n",
       "    </tr>\n",
       "    <tr>\n",
       "      <th>3</th>\n",
       "      <td>sports</td>\n",
       "      <td>246.31</td>\n",
       "      <td>0.0</td>\n",
       "    </tr>\n",
       "    <tr>\n",
       "      <th>8</th>\n",
       "      <td>fashion</td>\n",
       "      <td>236.37</td>\n",
       "      <td>2.0</td>\n",
       "    </tr>\n",
       "    <tr>\n",
       "      <th>4</th>\n",
       "      <td>food</td>\n",
       "      <td>28.16</td>\n",
       "      <td>0.0</td>\n",
       "    </tr>\n",
       "    <tr>\n",
       "      <th>1</th>\n",
       "      <td>electronic</td>\n",
       "      <td>24.16</td>\n",
       "      <td>0.0</td>\n",
       "    </tr>\n",
       "    <tr>\n",
       "      <th>5</th>\n",
       "      <td>travel</td>\n",
       "      <td>15.44</td>\n",
       "      <td>0.0</td>\n",
       "    </tr>\n",
       "    <tr>\n",
       "      <th>7</th>\n",
       "      <td>kitchen</td>\n",
       "      <td>14.44</td>\n",
       "      <td>0.0</td>\n",
       "    </tr>\n",
       "    <tr>\n",
       "      <th>6</th>\n",
       "      <td>baby</td>\n",
       "      <td>14.38</td>\n",
       "      <td>0.0</td>\n",
       "    </tr>\n",
       "    <tr>\n",
       "      <th>2</th>\n",
       "      <td>pet</td>\n",
       "      <td>12.46</td>\n",
       "      <td>0.0</td>\n",
       "    </tr>\n",
       "    <tr>\n",
       "      <th>0</th>\n",
       "      <td>furniture</td>\n",
       "      <td>3.95</td>\n",
       "      <td>0.0</td>\n",
       "    </tr>\n",
       "  </tbody>\n",
       "</table>\n",
       "</div>"
      ],
      "text/plain": [
       "     category   score  actual_buy\n",
       "9      beauty  246.63         0.0\n",
       "3      sports  246.31         0.0\n",
       "8     fashion  236.37         2.0\n",
       "4        food   28.16         0.0\n",
       "1  electronic   24.16         0.0\n",
       "5      travel   15.44         0.0\n",
       "7     kitchen   14.44         0.0\n",
       "6        baby   14.38         0.0\n",
       "2         pet   12.46         0.0\n",
       "0   furniture    3.95         0.0"
      ]
     },
     "execution_count": 18,
     "metadata": {},
     "output_type": "execute_result"
    }
   ],
   "source": [
    "random_idx = cluster_transformed.index[random.randint(0,len(cluster_transformed))]\n",
    "random_data = cluster_transformed.loc[random_idx, :\"month_9\"]\n",
    "\n",
    "score = []\n",
    "for i in range(10) :\n",
    "    s = clustering_index(3, random_data, cluster, cluster_transformed, i)*100\n",
    "    score.append(round(s,2))\n",
    "actual = list(cluster.loc[random_idx,'CLAC0_0':'CLAC0_9'].values)\n",
    "pd.DataFrame({'category': labels,'score':score,'actual_buy':actual}).sort_values(['score'],ascending=False)"
   ]
  }
 ],
 "metadata": {
  "kernelspec": {
   "display_name": "Python [default]",
   "language": "python",
   "name": "python3"
  },
  "language_info": {
   "codemirror_mode": {
    "name": "ipython",
    "version": 3
   },
   "file_extension": ".py",
   "mimetype": "text/x-python",
   "name": "python",
   "nbconvert_exporter": "python",
   "pygments_lexer": "ipython3",
   "version": "3.7.0"
  }
 },
 "nbformat": 4,
 "nbformat_minor": 2
}
